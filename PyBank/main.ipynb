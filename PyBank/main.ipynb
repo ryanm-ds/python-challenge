{
 "cells": [
  {
   "cell_type": "code",
   "execution_count": 2,
   "metadata": {
    "collapsed": true
   },
   "outputs": [],
   "source": [
    "import pandas as pd\n",
    "import numpy as np"
   ]
  },
  {
   "cell_type": "code",
   "execution_count": 3,
   "metadata": {
    "collapsed": true
   },
   "outputs": [],
   "source": [
    "df = pd.read_csv('/Users/ryanmichels/Downloads/budget_data.csv')"
   ]
  },
  {
   "cell_type": "code",
   "execution_count": 4,
   "metadata": {},
   "outputs": [
    {
     "data": {
      "text/html": [
       "<div>\n",
       "<style>\n",
       "    .dataframe thead tr:only-child th {\n",
       "        text-align: right;\n",
       "    }\n",
       "\n",
       "    .dataframe thead th {\n",
       "        text-align: left;\n",
       "    }\n",
       "\n",
       "    .dataframe tbody tr th {\n",
       "        vertical-align: top;\n",
       "    }\n",
       "</style>\n",
       "<table border=\"1\" class=\"dataframe\">\n",
       "  <thead>\n",
       "    <tr style=\"text-align: right;\">\n",
       "      <th></th>\n",
       "      <th>Date</th>\n",
       "      <th>Profit/Losses</th>\n",
       "    </tr>\n",
       "  </thead>\n",
       "  <tbody>\n",
       "    <tr>\n",
       "      <th>0</th>\n",
       "      <td>Jan-2010</td>\n",
       "      <td>867884</td>\n",
       "    </tr>\n",
       "    <tr>\n",
       "      <th>1</th>\n",
       "      <td>Feb-2010</td>\n",
       "      <td>984655</td>\n",
       "    </tr>\n",
       "    <tr>\n",
       "      <th>2</th>\n",
       "      <td>Mar-2010</td>\n",
       "      <td>322013</td>\n",
       "    </tr>\n",
       "    <tr>\n",
       "      <th>3</th>\n",
       "      <td>Apr-2010</td>\n",
       "      <td>-69417</td>\n",
       "    </tr>\n",
       "    <tr>\n",
       "      <th>4</th>\n",
       "      <td>May-2010</td>\n",
       "      <td>310503</td>\n",
       "    </tr>\n",
       "  </tbody>\n",
       "</table>\n",
       "</div>"
      ],
      "text/plain": [
       "       Date  Profit/Losses\n",
       "0  Jan-2010         867884\n",
       "1  Feb-2010         984655\n",
       "2  Mar-2010         322013\n",
       "3  Apr-2010         -69417\n",
       "4  May-2010         310503"
      ]
     },
     "execution_count": 4,
     "metadata": {},
     "output_type": "execute_result"
    }
   ],
   "source": [
    "df.head()"
   ]
  },
  {
   "cell_type": "code",
   "execution_count": 5,
   "metadata": {},
   "outputs": [
    {
     "data": {
      "text/plain": [
       "(86, 2)"
      ]
     },
     "execution_count": 5,
     "metadata": {},
     "output_type": "execute_result"
    }
   ],
   "source": [
    "df.shape"
   ]
  },
  {
   "cell_type": "code",
   "execution_count": 6,
   "metadata": {
    "collapsed": true
   },
   "outputs": [],
   "source": [
    "total_number_months = df['Date'].count()"
   ]
  },
  {
   "cell_type": "code",
   "execution_count": 7,
   "metadata": {
    "collapsed": true
   },
   "outputs": [],
   "source": [
    "net_profit = df['Profit/Losses'].sum()"
   ]
  },
  {
   "cell_type": "code",
   "execution_count": 8,
   "metadata": {
    "collapsed": true
   },
   "outputs": [],
   "source": [
    "diff =0\n",
    "for i in range(len(df['Profit/Losses'])-1):\n",
    "    diff += df['Profit/Losses'].iloc[i+1] - df['Profit/Losses'].iloc[i]    \n",
    "average_changes = diff/85    "
   ]
  },
  {
   "cell_type": "code",
   "execution_count": 9,
   "metadata": {},
   "outputs": [
    {
     "data": {
      "text/plain": [
       "(1926159, -2196167)"
      ]
     },
     "execution_count": 9,
     "metadata": {},
     "output_type": "execute_result"
    }
   ],
   "source": [
    "a = []\n",
    "for i in range(len(df['Profit/Losses'])-1):\n",
    "    a +=[df['Profit/Losses'].iloc[i+1] - df['Profit/Losses'].iloc[i]]\n",
    "max(a),min(a)"
   ]
  },
  {
   "cell_type": "code",
   "execution_count": 10,
   "metadata": {},
   "outputs": [
    {
     "data": {
      "text/plain": [
       "[116771,\n",
       " -662642,\n",
       " -391430,\n",
       " 379920,\n",
       " 212354,\n",
       " 510239,\n",
       " -428211,\n",
       " -821271,\n",
       " 693918,\n",
       " 416278,\n",
       " -974163,\n",
       " 860159,\n",
       " -1115009,\n",
       " 1033048,\n",
       " 95318,\n",
       " -308093,\n",
       " 99052,\n",
       " -521393,\n",
       " 605450,\n",
       " 231727,\n",
       " -65187,\n",
       " -702716,\n",
       " 177975,\n",
       " -1065544,\n",
       " 1926159,\n",
       " -917805,\n",
       " 898730,\n",
       " -334262,\n",
       " -246499,\n",
       " -64055,\n",
       " -1529236,\n",
       " 1497596,\n",
       " 304914,\n",
       " -635801,\n",
       " 398319,\n",
       " -183161,\n",
       " -37864,\n",
       " -253689,\n",
       " 403655,\n",
       " 94168,\n",
       " 306877,\n",
       " -83000,\n",
       " 210462,\n",
       " -2196167,\n",
       " 1465222,\n",
       " -956983,\n",
       " 1838447,\n",
       " -468003,\n",
       " -64602,\n",
       " 206242,\n",
       " -242155,\n",
       " -449079,\n",
       " 315198,\n",
       " 241099,\n",
       " 111540,\n",
       " 365942,\n",
       " -219310,\n",
       " -368665,\n",
       " 409837,\n",
       " 151210,\n",
       " -110244,\n",
       " -341938,\n",
       " -1212159,\n",
       " 683246,\n",
       " -70825,\n",
       " 335594,\n",
       " 417334,\n",
       " -272194,\n",
       " -236462,\n",
       " 657432,\n",
       " -211262,\n",
       " -128237,\n",
       " -1750387,\n",
       " 925441,\n",
       " 932089,\n",
       " -311434,\n",
       " 267252,\n",
       " -1876758,\n",
       " 1733696,\n",
       " 198551,\n",
       " -665765,\n",
       " 693229,\n",
       " -734926,\n",
       " 77242,\n",
       " 532869]"
      ]
     },
     "execution_count": 10,
     "metadata": {},
     "output_type": "execute_result"
    }
   ],
   "source": [
    "a"
   ]
  },
  {
   "cell_type": "code",
   "execution_count": 11,
   "metadata": {
    "collapsed": true
   },
   "outputs": [],
   "source": [
    "def get_greatest_increase(df, answer =0):\n",
    "    profit_change = df['Profit/Losses'].iloc[1] - df['Profit/Losses'].iloc[0]\n",
    "    for i in range(len(df)-1):\n",
    "        if df['Profit/Losses'].iloc[i+1] - df['Profit/Losses'].iloc[i] > profit_change:\n",
    "            profit_change = df['Profit/Losses'].iloc[i+1] - df['Profit/Losses'].iloc[i]\n",
    "            answer = i+1\n",
    "    return answer\n",
    "            "
   ]
  },
  {
   "cell_type": "code",
   "execution_count": 12,
   "metadata": {},
   "outputs": [
    {
     "data": {
      "text/plain": [
       "25"
      ]
     },
     "execution_count": 12,
     "metadata": {},
     "output_type": "execute_result"
    }
   ],
   "source": [
    "get_greatest_increase(df)"
   ]
  },
  {
   "cell_type": "code",
   "execution_count": 13,
   "metadata": {
    "collapsed": true
   },
   "outputs": [],
   "source": [
    "greatest_increase_profits = df['Profit/Losses'].iloc[25] - df['Profit/Losses'].iloc[24]"
   ]
  },
  {
   "cell_type": "code",
   "execution_count": 14,
   "metadata": {
    "collapsed": true
   },
   "outputs": [],
   "source": [
    "def get_greatest_decrease(df, answer =0):\n",
    "    loss_change = df['Profit/Losses'].iloc[1] - df['Profit/Losses'].iloc[0]\n",
    "    for i in range(len(df)-1):\n",
    "        if (df['Profit/Losses'].iloc[i+1]) - (df['Profit/Losses'].iloc[i]) < loss_change:\n",
    "            loss_change = df['Profit/Losses'].iloc[i+1] - df['Profit/Losses'].iloc[i]\n",
    "            answer = i+1\n",
    "    return answer"
   ]
  },
  {
   "cell_type": "code",
   "execution_count": 15,
   "metadata": {},
   "outputs": [
    {
     "data": {
      "text/plain": [
       "44"
      ]
     },
     "execution_count": 15,
     "metadata": {},
     "output_type": "execute_result"
    }
   ],
   "source": [
    "get_greatest_decrease(df)"
   ]
  },
  {
   "cell_type": "code",
   "execution_count": 16,
   "metadata": {
    "collapsed": true
   },
   "outputs": [],
   "source": [
    "greatest_decrease_losses = df['Profit/Losses'].iloc[44] - df['Profit/Losses'].iloc[43]"
   ]
  },
  {
   "cell_type": "code",
   "execution_count": 44,
   "metadata": {},
   "outputs": [
    {
     "name": "stdout",
     "output_type": "stream",
     "text": [
      "\tFinancial Analysis\n",
      "_____________________________________\n",
      "Total Months: \t  86\n",
      "Total Profits: \t$ 38382578\n",
      "Average Change: $ -2315.12\n",
      "Greatest Increase in Profits: Feb-2012 ($ 1926159 )\n",
      "Greatest Derease in Profits: Sep-2013 ($ -2196167 )\n"
     ]
    }
   ],
   "source": [
    "print(\"\\tFinancial Analysis\\n_____________________________________\")\n",
    "print(\"Total Months: \\t \", total_number_months)\n",
    "print(\"Total Profits: \\t$\", net_profit)\n",
    "print(\"Average Change: $\", round(average_changes,2))\n",
    "print(\"Greatest Increase in Profits:\", df['Date'].iloc[25],  \"($\"  ,greatest_increase_profits,\")\")\n",
    "print(\"Greatest Derease in Profits:\", df['Date'].iloc[44],  \"($\"  ,greatest_decrease_losses,\")\")"
   ]
  },
  {
   "cell_type": "code",
   "execution_count": 46,
   "metadata": {},
   "outputs": [],
   "source": [
    "file = open(\"Financial Analysis.txt\", \"w\") \n",
    "file.write(\"Financial Analysis\" + \"\\n\") \n",
    "file.write(\"_____________________________________\\n\") \n",
    "file.write(\"Total Months: {}\\n\".format(total_number_months)) \n",
    "file.write(\"Total Profits:  ${}\\n\".format(net_profit)) \n",
    "file.write(\"Average Change:  ${}\\n\".format(round(average_changes,2))) \n",
    "file.write(\"Greatest Increase in Profits:  {} (${})\\n\".format(df['Date'].iloc[25],greatest_increase_profits)) \n",
    "file.write(\"Greatest Decrease in Profits:  {} (${})\".format(df['Date'].iloc[44],greatest_decrease_losses)) \n",
    " \n",
    "file.close() "
   ]
  },
  {
   "cell_type": "code",
   "execution_count": null,
   "metadata": {
    "collapsed": true
   },
   "outputs": [],
   "source": []
  }
 ],
 "metadata": {
  "kernelspec": {
   "display_name": "Python 3",
   "language": "python",
   "name": "python3"
  },
  "language_info": {
   "codemirror_mode": {
    "name": "ipython",
    "version": 3
   },
   "file_extension": ".py",
   "mimetype": "text/x-python",
   "name": "python",
   "nbconvert_exporter": "python",
   "pygments_lexer": "ipython3",
   "version": "3.6.1"
  }
 },
 "nbformat": 4,
 "nbformat_minor": 2
}
